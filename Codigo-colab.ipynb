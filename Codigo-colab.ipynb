{
  "nbformat": 4,
  "nbformat_minor": 0,
  "metadata": {
    "colab": {
      "provenance": [],
      "include_colab_link": true
    },
    "kernelspec": {
      "name": "python3",
      "display_name": "Python 3"
    },
    "language_info": {
      "name": "python"
    }
  },
  "cells": [
    {
      "cell_type": "markdown",
      "metadata": {
        "id": "view-in-github",
        "colab_type": "text"
      },
      "source": [
        "<a href=\"https://colab.research.google.com/github/luanatex/Calculo-de-notas/blob/main/LUANATEIXEIRA_AOP2.ipynb\" target=\"_parent\"><img src=\"https://colab.research.google.com/assets/colab-badge.svg\" alt=\"Open In Colab\"/></a>"
      ]
    },
    {
      "cell_type": "markdown",
      "source": [
        "<?xml version=\"1.0\" encoding=\"UTF-8\"?>\n",
        "\n",
        "\n",
        "\n",
        "\n",
        "<html>\n",
        "  <body>\n",
        "    <header></header>\n",
        "        <CENTER>\n",
        "          <img src=\"https://www.crfes.org.br/wp-content/uploads/2018/04/uvvlogo-2-1-1.png\" alt=\"UVV-LOGO\" style = width=\"100px\"; height=\"100px\">\n",
        "        </CENTER>\n",
        "        <CENTER><b>Universidade de Vila Velha</b></CENTER>\n",
        "        <CENTER><b>Introdução à Programação de Computadores - PYTHON</b></CENTER>\n",
        "        <br>\n",
        "        <CENTER><b>Prof.: Fabricio Ribeiro Ferreira</b>\n",
        "        <CENTER><b>Tutor: Edgar Salardani Senhorello</b>\n",
        "        <CENTER><b>ATIVIDADE ONLINE PONTUADA 2</b></CENTER><br/>"
      ],
      "metadata": {
        "id": "DQK3cj6S3PCI"
      }
    },
    {
      "cell_type": "markdown",
      "source": [
        "Nome do Aluno: Luana Teixeira da Silva"
      ],
      "metadata": {
        "id": "WPSPpcLu3bu3"
      }
    },
    {
      "cell_type": "code",
      "source": [
        "aprovados = 0\n",
        "reprovados = 0\n",
        "totalalunos = 3\n",
        "\n",
        "# FOR para criar a sequencia de input de cada aluno\n",
        "\n",
        "for aluno in range(1,totalalunos + 1):\n",
        "  print('Notas do Aluno', aluno)\n",
        "\n",
        "# WHILE em cada atividade para limitar o valor da nota do input\n",
        "\n",
        "  while True:\n",
        "    aop1 = float(input('Digite a nota da Atividade Pontuada 1 (AOP1): '))\n",
        "    if 0 <= aop1 <= 1:\n",
        "      break\n",
        "    else:\n",
        "      print('Erro\\nA nota inserida deve ser entre 0 e 1')\n",
        "  while True:\n",
        "    aop2 = float(input('Digite a nota da Atividade Pontuada 2 (AOP2): '))\n",
        "    if 0 <= aop2 <= 2:\n",
        "      break\n",
        "    else:\n",
        "      print('Erro\\nA nota inserida deve ser entre 0 e 2')\n",
        "  while True:\n",
        "    aop3 = float(input('Digite a nota da Atividade Pontuada 3 (AOP3): '))\n",
        "    if 0 <= aop3 <= 1:\n",
        "      break\n",
        "    else:\n",
        "      print('Erro\\nA nota inserida deve ser entre 0 e 1')\n",
        "  while True:\n",
        "    prova = float(input('Digite a nota da Prova Regular: '))\n",
        "    if 0 <= prova <= 6:\n",
        "      break\n",
        "    else:\n",
        "      print('Erro\\n A nota inserida deve ser entre 0 e 6')\n",
        "\n",
        "# Soma do Modulo (sm) = soma de todas as atividades anteriores\n",
        "\n",
        "  sm = aop1 + aop2 + aop3 + prova\n",
        "  if sm < 7:\n",
        "    print('Status do Aluno:\\nProva de Recuperação')\n",
        "    while True:\n",
        "      recuperação = float(input('Digite a nota da Prova de Recuperação: '))\n",
        "      if 0 <= recuperação <= 10:\n",
        "        break\n",
        "      else:\n",
        "        print('Erro\\nA nota inserida deve ser entre 0 e 10')\n",
        "\n",
        "#Calcular da nota final e exibir status do aluno\n",
        "    final = (sm + recuperação)/2\n",
        "    if final < 5:\n",
        "      reprovados += 1\n",
        "      print('Status do Aluno:\\nReprovado')\n",
        "    else:\n",
        "      aprovados += 1\n",
        "      print('Status do Aluno:\\nAprovado')\n",
        "  else:\n",
        "    aprovados += 1\n",
        "    print('Status do Aluno:\\nAprovado')\n",
        "\n",
        "#Calcular a porcentagem de alunos aprovados e reprovados\n",
        "\n",
        "porcentagemaprov = aprovados/(totalalunos/100)\n",
        "porcentagemreprov = reprovados/(totalalunos/100)\n",
        "print('Status da Turma:')\n",
        "print(f'{porcentagemaprov}% dos alunos foram Aprovados')\n",
        "print(f'{porcentagemreprov}% dos alunos foram Reprovados')\n"
      ],
      "metadata": {
        "id": "laC7GIKD3g5S",
        "colab": {
          "base_uri": "https://localhost:8080/"
        },
        "outputId": "b004cd45-8746-43b0-953e-7c8274c94bfd"
      },
      "execution_count": null,
      "outputs": [
        {
          "output_type": "stream",
          "name": "stdout",
          "text": [
            "Notas do Aluno 1\n",
            "Digite a nota da Atividade Pontuada 1 (AOP1): 3\n",
            "Erro\n",
            "A nota inserida deve ser entre 0 e 1\n",
            "Digite a nota da Atividade Pontuada 1 (AOP1): 1\n",
            "Digite a nota da Atividade Pontuada 2 (AOP2): 0\n",
            "Digite a nota da Atividade Pontuada 3 (AOP3): 1\n",
            "Digite a nota da Prova Regular: 1\n",
            "Status do Aluno:\n",
            "Prova de Recuperação\n",
            "Digite a nota da Prova de Recuperação: 10\n",
            "Status do Aluno:\n",
            "Aprovado\n",
            "Notas do Aluno 2\n",
            "Digite a nota da Atividade Pontuada 1 (AOP1): 0\n",
            "Digite a nota da Atividade Pontuada 2 (AOP2): 3\n",
            "Erro\n",
            "A nota inserida deve ser entre 0 e 2\n",
            "Digite a nota da Atividade Pontuada 2 (AOP2): 1\n",
            "Digite a nota da Atividade Pontuada 3 (AOP3): 1\n",
            "Digite a nota da Prova Regular: 1\n",
            "Status do Aluno:\n",
            "Prova de Recuperação\n",
            "Digite a nota da Prova de Recuperação: 1\n",
            "Status do Aluno:\n",
            "Reprovado\n",
            "Notas do Aluno 3\n",
            "Digite a nota da Atividade Pontuada 1 (AOP1): 1\n",
            "Digite a nota da Atividade Pontuada 2 (AOP2): 1\n",
            "Digite a nota da Atividade Pontuada 3 (AOP3): 1\n",
            "Digite a nota da Prova Regular: 1\n",
            "Status do Aluno:\n",
            "Prova de Recuperação\n",
            "Digite a nota da Prova de Recuperação: 1\n",
            "Status do Aluno:\n",
            "Reprovado\n",
            "Status da Turma:\n",
            "33.333333333333336% dos alunos foram Aprovados\n",
            "66.66666666666667% dos alunos foram Reprovados\n"
          ]
        }
      ]
    }
  ]
}
